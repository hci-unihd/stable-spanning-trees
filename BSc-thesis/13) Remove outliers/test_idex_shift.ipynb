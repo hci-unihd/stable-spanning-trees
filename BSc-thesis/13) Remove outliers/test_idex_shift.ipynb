{
 "cells": [
  {
   "cell_type": "code",
   "execution_count": 1,
   "id": "1c6bdc08-6cc0-4101-82eb-22a49d1547b9",
   "metadata": {},
   "outputs": [],
   "source": [
    "import numpy as np"
   ]
  },
  {
   "cell_type": "code",
   "execution_count": 2,
   "id": "4cc49fdc-ff0d-4aa3-af3a-10860e9c0455",
   "metadata": {},
   "outputs": [],
   "source": [
    "a = np.array(range(20))"
   ]
  },
  {
   "cell_type": "code",
   "execution_count": 3,
   "id": "165cce38-2877-4161-9414-122ce9bfb4c6",
   "metadata": {},
   "outputs": [
    {
     "data": {
      "text/plain": [
       "(array([ 0,  1,  2,  3,  4,  6,  7,  9, 11, 12, 13, 14, 16, 17, 18, 19]),\n",
       " array([15,  5, 10,  8]))"
      ]
     },
     "execution_count": 3,
     "metadata": {},
     "output_type": "execute_result"
    }
   ],
   "source": [
    "removal = np.random.randint(0, 20, size=(np.random.randint(3,15)))\n",
    "b = np.delete(a, removal)\n",
    "b, removal"
   ]
  },
  {
   "cell_type": "code",
   "execution_count": 4,
   "id": "c3286424-ea5c-45af-b7be-d877194cf5ec",
   "metadata": {},
   "outputs": [
    {
     "data": {
      "text/plain": [
       "array([1, 1, 1, 1, 2, 1, 2, 2, 1, 1, 1, 2, 1, 1, 1])"
      ]
     },
     "execution_count": 4,
     "metadata": {},
     "output_type": "execute_result"
    }
   ],
   "source": [
    "b[1:] - b[:-1]"
   ]
  },
  {
   "cell_type": "code",
   "execution_count": 5,
   "id": "818f07fe-1b30-4f18-911d-65699d3f30d6",
   "metadata": {},
   "outputs": [],
   "source": [
    "difference = [0 for i in range(len(a))]\n",
    "last_difference = 0\n",
    "\n",
    "for label in np.sort(a):\n",
    "    if label in removal:\n",
    "        last_difference += 1\n",
    "\n",
    "    difference[label] = last_difference\n",
    "\n",
    "for idx, label in enumerate(b):\n",
    "    b[idx] -= difference[label]"
   ]
  },
  {
   "cell_type": "code",
   "execution_count": 6,
   "id": "3705ac71-2188-4975-91fb-8e307c74de11",
   "metadata": {},
   "outputs": [
    {
     "data": {
      "text/plain": [
       "array([1, 1, 1, 1, 1, 1, 1, 1, 1, 1, 1, 1, 1, 1, 1])"
      ]
     },
     "execution_count": 6,
     "metadata": {},
     "output_type": "execute_result"
    }
   ],
   "source": [
    "b[1:] - b[:-1]"
   ]
  }
 ],
 "metadata": {
  "kernelspec": {
   "display_name": "Python 3",
   "language": "python",
   "name": "python3"
  },
  "language_info": {
   "codemirror_mode": {
    "name": "ipython",
    "version": 3
   },
   "file_extension": ".py",
   "mimetype": "text/x-python",
   "name": "python",
   "nbconvert_exporter": "python",
   "pygments_lexer": "ipython3",
   "version": "3.9.4"
  }
 },
 "nbformat": 4,
 "nbformat_minor": 5
}
