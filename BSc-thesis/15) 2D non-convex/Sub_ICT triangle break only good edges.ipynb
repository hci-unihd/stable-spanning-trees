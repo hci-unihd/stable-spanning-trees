{
 "cells": [
  {
   "cell_type": "code",
   "execution_count": null,
   "id": "0d5d8f98-ad5a-41a8-9075-b7c97a304f4d",
   "metadata": {},
   "outputs": [],
   "source": [
    "%load_ext autoreload"
   ]
  },
  {
   "cell_type": "code",
   "execution_count": null,
   "id": "e95ae925-2b78-4551-9f40-ee3bb55c3024",
   "metadata": {},
   "outputs": [],
   "source": [
    "%autoreload 2"
   ]
  },
  {
   "cell_type": "code",
   "execution_count": null,
   "id": "debbec12-0d1c-4d1c-950c-85c55236fac7",
   "metadata": {},
   "outputs": [],
   "source": [
    "import os\n",
    "import sys\n",
    "module_path = os.path.abspath(os.path.join('..'))\n",
    "if module_path not in sys.path:\n",
    "    sys.path.append(module_path)"
   ]
  },
  {
   "cell_type": "code",
   "execution_count": null,
   "id": "f79a998e-002a-48fc-a4bf-de06993987b5",
   "metadata": {
    "tags": []
   },
   "outputs": [],
   "source": [
    "import networkit as nk\n",
    "import numpy as np\n",
    "import pandas as pd\n",
    "import matplotlib.pyplot as plt\n",
    "import time\n",
    "import random\n",
    "\n",
    "from sklearn.preprocessing import StandardScaler\n",
    "from sklearn.metrics import pairwise_distances\n",
    "from IPython.display import display, Math, Latex, Markdown\n",
    "from tqdm.notebook import tqdm\n",
    "\n",
    "from cluster_filter import cfilter, cassign\n",
    "\n",
    "from External.ICT.calculate_ICT import calculate_ICT, calculate_sub_ICTs\n",
    "from External.clustering import centers, k_means_pp\n",
    "from External.generation import create_graph\n",
    "from External.plotting import plot_points, plot_graph, no_intersections\n",
    "from External.create_k_nearest import patch_together\n",
    "\n",
    "plt.style.use('standard.mplstyle')"
   ]
  },
  {
   "cell_type": "code",
   "execution_count": null,
   "id": "c1ba85e2-687a-4ceb-b1d3-dbd4fd3420db",
   "metadata": {},
   "outputs": [],
   "source": [
    "# Hyperparameters\n",
    "mode = \"Full+Exp-Triangle\"\n",
    "metric = \"euclidean\"\n",
    "dataset = \"non_convex\"\n",
    "ICT_algorithm = \"cluster_all\"\n",
    "\n",
    "\n",
    "min_cluster_size = 12\n",
    "small_behavior = \"reassign\"\n",
    "\n",
    "# image loading\n",
    "n = number_of_nodes = 1000\n",
    "Random = True\n",
    "image_name = \"image\"\n",
    "\n",
    "# for the filename\n",
    "parameters = \"2-0_5-1000\""
   ]
  },
  {
   "cell_type": "code",
   "execution_count": null,
   "id": "81d35385-3efc-435b-89d1-cbdc71dabef0",
   "metadata": {},
   "outputs": [],
   "source": [
    "def load_image(filename):\n",
    "    a=plt.imread(filename+'.png')\n",
    "    rgb_weights = [0.2989, 0.5870, 0.1140]\n",
    "    \n",
    "    grayscale_image = np.dot(a[...,:3], rgb_weights)>0\n",
    "    \n",
    "    return grayscale_image\n",
    "    \n",
    "    \n",
    "def sample_points_from_image(n,img,Random=True):\n",
    "    if not Random:\n",
    "        random.seed(42)\n",
    "    non_zero = np.where(img!=0)\n",
    "    # non_zero=np.vstack((non_zero[0],non_zero[1])).T\n",
    "    \n",
    "    \n",
    "    idx = random.sample(range(len(non_zero[0])),n)\n",
    "    \n",
    "    x_coord = non_zero[0][idx]\n",
    "    y_coord = non_zero[1][idx]\n",
    "    return x_coord,y_coord"
   ]
  },
  {
   "cell_type": "code",
   "execution_count": null,
   "id": "165c8e43-cafc-4d1e-8d17-d8db2e08d778",
   "metadata": {
    "scrolled": true,
    "tags": []
   },
   "outputs": [],
   "source": [
    "# Compute the position array\n",
    "img = load_image(image_name)\n",
    "position = np.array(sample_points_from_image(n,img,Random)).T\n",
    "position = StandardScaler().fit_transform(position)"
   ]
  },
  {
   "cell_type": "code",
   "execution_count": null,
   "id": "e7a4a961-a16f-4dd8-95d8-dd5ee4c5ebea",
   "metadata": {
    "scrolled": true,
    "tags": []
   },
   "outputs": [],
   "source": [
    "for k in range(1, 61):\n",
    "    cluster_centers, cluster_labels = k_means_pp(k, position, return_labels=True)\n",
    "\n",
    "    if small_behavior == \"remove\":\n",
    "        cluster_centers, cluster_labels, (position, ) = cfilter(cluster_centers, cluster_labels, t=min_cluster_size, position_likes=[position])\n",
    "        number_of_nodes = len(position)\n",
    "    if small_behavior == \"reassign\":\n",
    "        cluster_centers, cluster_labels = cassign(cluster_centers, cluster_labels, position, t=min_cluster_size)\n",
    "\n",
    "    sub_ICTs, components = calculate_sub_ICTs(position, cluster_centers, cluster_labels, t=min_cluster_size, mode=mode)\n",
    "\n",
    "\n",
    "    # plot the ICT forest\n",
    "    ICT_forest = nk.graph.Graph(n=len(position), weighted=True)\n",
    "    distances = pairwise_distances(position, position)\n",
    "    for component, sub_ICT in zip(components, sub_ICTs):\n",
    "        for u, v, w in sub_ICT.iterEdgesWeights():\n",
    "            nodeA = component[u]\n",
    "            nodeB = component[v]\n",
    "            ICT_forest.addEdge(nodeA, nodeB, distances[nodeA, nodeB])\n",
    "\n",
    "    ICT_forest.indexEdges()\n",
    "    \n",
    "    \n",
    "    \n",
    "    good_edges = []\n",
    "    for u, v in ICT_forest.iterEdges():\n",
    "        good_edges.append([u,v])\n",
    "        \n",
    "        \n",
    "        \n",
    "\n",
    "    G = patch_together(ICT_forest, position, bridges=4)\n",
    "\n",
    "    ICT = calculate_ICT(G, algorithm_type=ICT_algorithm, cluster_centers=cluster_centers,\n",
    "                                    zeros_stay_zeros=True, update_G=1.1, good_edges=good_edges)\n",
    "    ICT.indexEdges()\n",
    "    \n",
    "    # Plot the ICT\n",
    "    fig, axs = plt.subplots(1, 2, figsize=(12,6))\n",
    "    plot_points(position, f\"ICT with nodes ({k} clusters)\", axs[0], labels=np.array(cluster_labels), node_size=5)\n",
    "    axs[0].get_legend().remove()\n",
    "    plot_graph(ICT, position, f\"ICT with nodes ({k} clusters)\", axs[0], node_size=0, edge_scale=0.5)\n",
    "    plot_graph(ICT, position, f\"ICT without nodes ({k} clusters)\", axs[1], node_size=0, edge_scale=0.5)\n",
    "    name = str(k)\n",
    "    plt.tight_layout()\n",
    "    plt.savefig(f\"Output/triangle2/\"+ name.zfill(5) + \".png\")\n",
    "    plt.close()"
   ]
  }
 ],
 "metadata": {
  "kernelspec": {
   "display_name": "Python 3",
   "language": "python",
   "name": "python3"
  },
  "language_info": {
   "codemirror_mode": {
    "name": "ipython",
    "version": 3
   },
   "file_extension": ".py",
   "mimetype": "text/x-python",
   "name": "python",
   "nbconvert_exporter": "python",
   "pygments_lexer": "ipython3",
   "version": "3.9.4"
  }
 },
 "nbformat": 4,
 "nbformat_minor": 5
}
