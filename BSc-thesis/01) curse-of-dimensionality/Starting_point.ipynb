{
 "cells": [
  {
   "cell_type": "code",
   "execution_count": null,
   "id": "963371e7-1fab-4b04-94c5-8cc20122e4a7",
   "metadata": {},
   "outputs": [],
   "source": [
    "import networkit as nk\n",
    "import numpy as np\n",
    "import matplotlib.pyplot as plt\n",
    "import time\n",
    "import phate\n",
    "\n",
    "from tqdm.notebook import tqdm\n",
    "from sklearn.preprocessing import StandardScaler\n",
    "\n",
    "from External.WS_Tree_dist import EMD_dist_tree_discretized, EMD_dist_tree_edge, plot_flow_discretized\n",
    "from External.ICT.calculate_ICT import calculate_ICT, compute_widths\n",
    "from External.clustering import k_means_pp\n",
    "from External.generation import create_graph\n",
    "\n",
    "plt.style.use('standard.mplstyle')\n",
    "\n",
    "# Hyperparameters\n",
    "mode = \"Full+Exp-Triangle\"   # mode for the graph construction\n",
    "gamma = 5                    # Gamma for the triangle break\n",
    "\n",
    "metric = \"euclidean\"         # Metric for the k-means clustering\n",
    "ε, δ = 0.03, 0.1             # Values for the estimation of the k for k-means\n",
    "\n",
    "title_of_ICT = \n",
    "name_of_image = \"triangle_break/\""
   ]
  },
  {
   "cell_type": "code",
   "execution_count": null,
   "id": "bb4685b5-69dc-415c-a257-d20639d302f1",
   "metadata": {},
   "outputs": [],
   "source": [
    "# Load the data\n",
    "\n",
    "position, labels = phate.tree.gen_dla(n_dim=2, n_branch=3,\n",
    "                                            branch_length=2500, rand_multiplier=2, seed=37, sigma=1)\n",
    "labels_unique = np.unique(labels)\n",
    "\n",
    "\n",
    "position = StandardScaler().fit_transform(position)\n",
    "number_of_nodes = len(position)"
   ]
  },
  {
   "cell_type": "code",
   "execution_count": null,
   "id": "5d5693df-22fe-405a-a2ae-57bd4c411466",
   "metadata": {},
   "outputs": [],
   "source": [
    "embedding = position"
   ]
  },
  {
   "cell_type": "code",
   "execution_count": null,
   "id": "6f64bbf0-4e9c-46a9-b285-8980713a1b01",
   "metadata": {},
   "outputs": [],
   "source": [
    "fig, ax = plt.subplots(1,1, figsize=(24,24))\n",
    "for label in labels_unique:\n",
    "    plt.plot(*embedding[np.argwhere(labels == label).T[0]].T, label=label)\n",
    "ax.axis(\"equal\")\n",
    "plt.legend()\n",
    "plt.show()"
   ]
  },
  {
   "cell_type": "code",
   "execution_count": null,
   "id": "f73a1e95",
   "metadata": {
    "scrolled": true
   },
   "outputs": [],
   "source": [
    "# Create the graph\n",
    "start = time.time()\n",
    "G, position = create_graph(number_of_nodes, mode, position=position, gamma=gamma)\n",
    "G.indexEdges()\n",
    "print(time.time()-start)"
   ]
  },
  {
   "cell_type": "code",
   "execution_count": null,
   "id": "817565c9",
   "metadata": {},
   "outputs": [],
   "source": [
    "start = time.time()\n",
    "# calculate the clusters\n",
    "r = 1 / (ε**2) * (int(np.log2(number_of_nodes - 1)) + 1 + np.log(1/δ))\n",
    "k = int(np.sqrt(r))\n",
    "k = np.min((k, G.numberOfNodes()))\n",
    "cluster_centers = k_means_pp(k, position, metric=metric, G=G)\n",
    "print(time.time()-start)"
   ]
  },
  {
   "cell_type": "code",
   "execution_count": null,
   "id": "35755de6",
   "metadata": {
    "scrolled": true,
    "tags": []
   },
   "outputs": [],
   "source": [
    "# calculate the cluster ICT with all aim nodes\n",
    "start = time.time()\n",
    "ICT = calculate_ICT(G, algorithm_type=\"cluster_all\", cluster_centers=cluster_centers,\n",
    "                                zeros_stay_zeros=True, update_G=1.1)\n",
    "ICT.indexEdges()\n",
    "\n",
    "# widths of the edges\n",
    "widths = compute_widths(ICT)\n",
    "print(time.time()-start)"
   ]
  },
  {
   "cell_type": "code",
   "execution_count": null,
   "id": "1df0790c",
   "metadata": {},
   "outputs": [],
   "source": [
    "# plotting\n",
    "\n",
    "names = [title_of_ICT, \"Ground truth\"]\n",
    "number_of_plots = len(names)\n",
    "\n",
    "\n",
    "\n",
    "# Create the figure\n",
    "fig, ax = plt.subplots(1, 2, figsize=(24*2,24))\n",
    "    \n",
    "# Plot the ICT and the cluster centers\n",
    "nk.viztasks.drawGraph(ICT, pos=embedding, ax=ax[0], width=widths, node_size=10)\n",
    "ax[0].plot(*embedding[cluster_centers].T, marker=\"o\", color = \"Red\")\n",
    "\n",
    "# Plot the ground truth\n",
    "for label in labels_unique:\n",
    "    ax[1].plot(*embedding[np.argwhere(labels == label).T[0]].T, label=label)\n",
    "    \n",
    "# General stuff\n",
    "for i in range(number_of_plots):\n",
    "    ax[i].tick_params(left=True, bottom=True, labelleft=True, labelbottom=True)\n",
    "    ax[i].set_axis_on()\n",
    "    ax[i].set_title(names[i])\n",
    "    ax[i].axis(\"equal\")\n",
    "    \n",
    "plt.legend\n",
    "plt.tight_layout()\n",
    "plt.savefig(f\"./Output/Images/{name_of_image}.png\")\n",
    "plt.show()"
   ]
  }
 ],
 "metadata": {
  "kernelspec": {
   "display_name": "Python 3",
   "language": "python",
   "name": "python3"
  },
  "language_info": {
   "codemirror_mode": {
    "name": "ipython",
    "version": 3
   },
   "file_extension": ".py",
   "mimetype": "text/x-python",
   "name": "python",
   "nbconvert_exporter": "python",
   "pygments_lexer": "ipython3",
   "version": "3.9.1"
  }
 },
 "nbformat": 4,
 "nbformat_minor": 5
}
