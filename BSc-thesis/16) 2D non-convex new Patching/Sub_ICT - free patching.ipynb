{
 "cells": [
  {
   "cell_type": "code",
   "execution_count": null,
   "id": "0d5d8f98-ad5a-41a8-9075-b7c97a304f4d",
   "metadata": {},
   "outputs": [],
   "source": [
    "%load_ext autoreload"
   ]
  },
  {
   "cell_type": "code",
   "execution_count": null,
   "id": "e95ae925-2b78-4551-9f40-ee3bb55c3024",
   "metadata": {},
   "outputs": [],
   "source": [
    "%autoreload 2"
   ]
  },
  {
   "cell_type": "code",
   "execution_count": null,
   "id": "debbec12-0d1c-4d1c-950c-85c55236fac7",
   "metadata": {},
   "outputs": [],
   "source": [
    "import os\n",
    "import sys\n",
    "module_path = os.path.abspath(os.path.join('..'))\n",
    "if module_path not in sys.path:\n",
    "    sys.path.append(module_path)"
   ]
  },
  {
   "cell_type": "code",
   "execution_count": 4,
   "id": "f79a998e-002a-48fc-a4bf-de06993987b5",
   "metadata": {
    "tags": []
   },
   "outputs": [],
   "source": [
    "import networkit as nk\n",
    "import numpy as np\n",
    "import pandas as pd\n",
    "import matplotlib.pyplot as plt\n",
    "import time\n",
    "import random\n",
    "\n",
    "from sklearn.preprocessing import StandardScaler\n",
    "from sklearn.metrics import pairwise_distances\n",
    "from IPython.display import display, Math, Latex, Markdown\n",
    "from tqdm.notebook import tqdm\n",
    "\n",
    "from cluster_filter import cfilter, cassign\n",
    "\n",
    "from External.ICT.calculate_ICT import calculate_ICT, calculate_sub_ICTs\n",
    "from External.clustering import centers, k_means_pp\n",
    "from External.generation import create_graph, load_image, sample_points_from_image\n",
    "from External.plotting import plot_points, plot_graph, no_intersections\n",
    "from patching import patch_together\n",
    "\n",
    "# from External.create_k_nearest import patch_together\n",
    "\n",
    "plt.style.use('animations.mplstyle')"
   ]
  },
  {
   "cell_type": "code",
   "execution_count": 5,
   "id": "c1ba85e2-687a-4ceb-b1d3-dbd4fd3420db",
   "metadata": {},
   "outputs": [],
   "source": [
    "# Hyperparameters\n",
    "mode = \"K_Nearest\" # Graph construction mode\n",
    "image_name = \"image\"\n",
    "ICT_algorithm = \"cluster_all\"\n",
    "metric = \"euclidean\" # metric for clustering\n",
    "patching = \"free\" #free or fixed\n",
    "\n",
    "name_of_image_folder = patching + \"_patching/\" + \"run_1\"\n",
    "\n",
    "# Cluster rassignment\n",
    "min_cluster_size = 12\n",
    "small_behavior = \"reassign\" #reassign or remove\n",
    "\n",
    "# image loading\n",
    "n = number_of_nodes = 1000\n",
    "Random = False\n"
   ]
  },
  {
   "cell_type": "code",
   "execution_count": 6,
   "id": "165c8e43-cafc-4d1e-8d17-d8db2e08d778",
   "metadata": {
    "scrolled": true,
    "tags": []
   },
   "outputs": [],
   "source": [
    "# Compute the position array\n",
    "img = load_image(image_name)\n",
    "position = np.array(sample_points_from_image(n,img,Random)).T\n",
    "position = StandardScaler().fit_transform(position)"
   ]
  },
  {
   "cell_type": "code",
   "execution_count": 7,
   "id": "e7a4a961-a16f-4dd8-95d8-dd5ee4c5ebea",
   "metadata": {
    "scrolled": true,
    "tags": []
   },
   "outputs": [
    {
     "name": "stdout",
     "output_type": "stream",
     "text": [
      "sklearn is done: 0.14058279991149902\n",
      "My own part is done: 0.0011856555938720703\n"
     ]
    },
    {
     "data": {
      "application/vnd.jupyter.widget-view+json": {
       "model_id": "4f21dec7dae24a5b93f0db9552dbf8bf",
       "version_major": 2,
       "version_minor": 0
      },
      "text/plain": [
       "  0%|          | 0/6 [00:00<?, ?it/s]"
      ]
     },
     "metadata": {},
     "output_type": "display_data"
    },
    {
     "name": "stdout",
     "output_type": "stream",
     "text": [
      "Final k: 11\n"
     ]
    },
    {
     "data": {
      "application/vnd.jupyter.widget-view+json": {
       "model_id": "bbedaa6bdc7f430497c25e770e466784",
       "version_major": 2,
       "version_minor": 0
      },
      "text/plain": [
       "create edgeId array:   0%|          | 0/1121 [00:00<?, ?it/s]"
      ]
     },
     "metadata": {},
     "output_type": "display_data"
    },
    {
     "data": {
      "application/vnd.jupyter.widget-view+json": {
       "model_id": "4209396c166c4eddb824ec385221364f",
       "version_major": 2,
       "version_minor": 0
      },
      "text/plain": [
       "Calculate the lower bound for the weights:   0%|          | 0/1121 [00:00<?, ?it/s]"
      ]
     },
     "metadata": {},
     "output_type": "display_data"
    },
    {
     "data": {
      "application/vnd.jupyter.widget-view+json": {
       "model_id": "f593ce7845174569950cf2e3491a827a",
       "version_major": 2,
       "version_minor": 0
      },
      "text/plain": [
       "Iteration over all nodes:   0%|          | 0/173 [00:00<?, ?it/s]"
      ]
     },
     "metadata": {},
     "output_type": "display_data"
    },
    {
     "name": "stdout",
     "output_type": "stream",
     "text": [
      "update Arr 1121 -> 1013\n",
      "update Arr 1013 -> 904\n",
      "update Arr 904 -> 808\n",
      "update Arr 808 -> 729\n",
      "update Arr 729 -> 661\n",
      "update Arr 661 -> 598\n",
      "update Arr 598 -> 540\n",
      "update Arr 540 -> 489\n",
      "update Arr 489 -> 441\n",
      "update Arr 441 -> 400\n",
      "update Arr 400 -> 358\n",
      "update Arr 358 -> 323\n",
      "update Arr 323 -> 292\n",
      "update Arr 292 -> 262\n",
      "update Arr 262 -> 236\n",
      "update Arr 236 -> 207\n",
      "update Arr 207 -> 188\n",
      "update Arr 188 -> 183\n",
      "update Arr 183 -> 179\n",
      "update Arr 179 -> 175\n",
      "update Arr 175 -> 174\n",
      "update Arr 174 -> 173\n",
      "Final k: 11\n"
     ]
    },
    {
     "data": {
      "application/vnd.jupyter.widget-view+json": {
       "model_id": "58e46966441b4ad1b059d8e1e94133ff",
       "version_major": 2,
       "version_minor": 0
      },
      "text/plain": [
       "create edgeId array:   0%|          | 0/1099 [00:00<?, ?it/s]"
      ]
     },
     "metadata": {},
     "output_type": "display_data"
    },
    {
     "data": {
      "application/vnd.jupyter.widget-view+json": {
       "model_id": "456a4a5b9c1b4b8298c1d836b0d2f934",
       "version_major": 2,
       "version_minor": 0
      },
      "text/plain": [
       "Calculate the lower bound for the weights:   0%|          | 0/1099 [00:00<?, ?it/s]"
      ]
     },
     "metadata": {},
     "output_type": "display_data"
    },
    {
     "data": {
      "application/vnd.jupyter.widget-view+json": {
       "model_id": "613872e618b44b6fba490539ed699b35",
       "version_major": 2,
       "version_minor": 0
      },
      "text/plain": [
       "Iteration over all nodes:   0%|          | 0/172 [00:00<?, ?it/s]"
      ]
     },
     "metadata": {},
     "output_type": "display_data"
    },
    {
     "name": "stdout",
     "output_type": "stream",
     "text": [
      "update Arr 1099 -> 994\n",
      "update Arr 994 -> 899\n",
      "update Arr 899 -> 813\n",
      "update Arr 813 -> 739\n",
      "update Arr 739 -> 669\n",
      "update Arr 669 -> 605\n",
      "update Arr 605 -> 549\n",
      "update Arr 549 -> 497\n",
      "update Arr 497 -> 449\n",
      "update Arr 449 -> 406\n",
      "update Arr 406 -> 369\n",
      "update Arr 369 -> 333\n",
      "update Arr 333 -> 301\n",
      "update Arr 301 -> 269\n",
      "update Arr 269 -> 241\n",
      "update Arr 241 -> 213\n",
      "update Arr 213 -> 190\n",
      "update Arr 190 -> 179\n",
      "update Arr 179 -> 178\n",
      "update Arr 178 -> 175\n",
      "update Arr 175 -> 173\n",
      "update Arr 173 -> 172\n",
      "Final k: 11\n"
     ]
    },
    {
     "data": {
      "application/vnd.jupyter.widget-view+json": {
       "model_id": "8cf6fa1c25e94de6bdb72a53913e80d4",
       "version_major": 2,
       "version_minor": 0
      },
      "text/plain": [
       "create edgeId array:   0%|          | 0/1315 [00:00<?, ?it/s]"
      ]
     },
     "metadata": {},
     "output_type": "display_data"
    },
    {
     "data": {
      "application/vnd.jupyter.widget-view+json": {
       "model_id": "7e8d43379d684701ab195b8f88059a31",
       "version_major": 2,
       "version_minor": 0
      },
      "text/plain": [
       "Calculate the lower bound for the weights:   0%|          | 0/1315 [00:00<?, ?it/s]"
      ]
     },
     "metadata": {},
     "output_type": "display_data"
    },
    {
     "data": {
      "application/vnd.jupyter.widget-view+json": {
       "model_id": "e01ce354b8ca4eb28fd5dc65e0819679",
       "version_major": 2,
       "version_minor": 0
      },
      "text/plain": [
       "Iteration over all nodes:   0%|          | 0/201 [00:00<?, ?it/s]"
      ]
     },
     "metadata": {},
     "output_type": "display_data"
    },
    {
     "name": "stdout",
     "output_type": "stream",
     "text": [
      "update Arr 1315 -> 1191\n",
      "update Arr 1191 -> 1075\n",
      "update Arr 1075 -> 954\n",
      "update Arr 954 -> 863\n",
      "update Arr 863 -> 781\n",
      "update Arr 781 -> 708\n",
      "update Arr 708 -> 640\n",
      "update Arr 640 -> 571\n",
      "update Arr 571 -> 517\n",
      "update Arr 517 -> 467\n",
      "update Arr 467 -> 420\n",
      "update Arr 420 -> 378\n",
      "update Arr 378 -> 343\n",
      "update Arr 343 -> 310\n",
      "update Arr 310 -> 281\n",
      "update Arr 281 -> 254\n",
      "update Arr 254 -> 225\n",
      "update Arr 225 -> 211\n",
      "update Arr 211 -> 207\n",
      "update Arr 207 -> 204\n",
      "update Arr 204 -> 202\n",
      "update Arr 202 -> 201\n",
      "Final k: 11\n"
     ]
    },
    {
     "data": {
      "application/vnd.jupyter.widget-view+json": {
       "model_id": "d2def02a0e10481d9f27c43810137e0c",
       "version_major": 2,
       "version_minor": 0
      },
      "text/plain": [
       "create edgeId array:   0%|          | 0/1072 [00:00<?, ?it/s]"
      ]
     },
     "metadata": {},
     "output_type": "display_data"
    },
    {
     "data": {
      "application/vnd.jupyter.widget-view+json": {
       "model_id": "e8e81a95266d4321bc1a8f40429232ad",
       "version_major": 2,
       "version_minor": 0
      },
      "text/plain": [
       "Calculate the lower bound for the weights:   0%|          | 0/1072 [00:00<?, ?it/s]"
      ]
     },
     "metadata": {},
     "output_type": "display_data"
    },
    {
     "data": {
      "application/vnd.jupyter.widget-view+json": {
       "model_id": "4770c66c581f4b959e6ef55bb2722327",
       "version_major": 2,
       "version_minor": 0
      },
      "text/plain": [
       "Iteration over all nodes:   0%|          | 0/166 [00:00<?, ?it/s]"
      ]
     },
     "metadata": {},
     "output_type": "display_data"
    },
    {
     "name": "stdout",
     "output_type": "stream",
     "text": [
      "update Arr 1072 -> 968\n",
      "update Arr 968 -> 875\n",
      "update Arr 875 -> 788\n",
      "update Arr 788 -> 709\n",
      "update Arr 709 -> 640\n",
      "update Arr 640 -> 577\n",
      "update Arr 577 -> 521\n",
      "update Arr 521 -> 469\n",
      "update Arr 469 -> 423\n",
      "update Arr 423 -> 384\n",
      "update Arr 384 -> 347\n",
      "update Arr 347 -> 305\n",
      "update Arr 305 -> 272\n",
      "update Arr 272 -> 240\n",
      "update Arr 240 -> 213\n",
      "update Arr 213 -> 187\n",
      "update Arr 187 -> 174\n",
      "update Arr 174 -> 172\n",
      "update Arr 172 -> 169\n",
      "update Arr 169 -> 167\n",
      "update Arr 167 -> 166\n",
      "Final k: 11\n"
     ]
    },
    {
     "data": {
      "application/vnd.jupyter.widget-view+json": {
       "model_id": "1821a0c70c4b427181b920f4e41d7445",
       "version_major": 2,
       "version_minor": 0
      },
      "text/plain": [
       "create edgeId array:   0%|          | 0/701 [00:00<?, ?it/s]"
      ]
     },
     "metadata": {},
     "output_type": "display_data"
    },
    {
     "data": {
      "application/vnd.jupyter.widget-view+json": {
       "model_id": "f65fd79135c24597923ef052fa4c81d9",
       "version_major": 2,
       "version_minor": 0
      },
      "text/plain": [
       "Calculate the lower bound for the weights:   0%|          | 0/701 [00:00<?, ?it/s]"
      ]
     },
     "metadata": {},
     "output_type": "display_data"
    },
    {
     "data": {
      "application/vnd.jupyter.widget-view+json": {
       "model_id": "2aeb8ed8d1614e78bc9a54f3a6dcee0f",
       "version_major": 2,
       "version_minor": 0
      },
      "text/plain": [
       "Iteration over all nodes:   0%|          | 0/105 [00:00<?, ?it/s]"
      ]
     },
     "metadata": {},
     "output_type": "display_data"
    },
    {
     "name": "stdout",
     "output_type": "stream",
     "text": [
      "update Arr 701 -> 636\n",
      "update Arr 636 -> 570\n",
      "update Arr 570 -> 515\n",
      "update Arr 515 -> 463\n",
      "update Arr 463 -> 419\n",
      "update Arr 419 -> 379\n",
      "update Arr 379 -> 341\n",
      "update Arr 341 -> 307\n",
      "update Arr 307 -> 277\n",
      "update Arr 277 -> 243\n",
      "update Arr 243 -> 216\n",
      "update Arr 216 -> 191\n",
      "update Arr 191 -> 163\n",
      "update Arr 163 -> 139\n",
      "update Arr 139 -> 126\n",
      "update Arr 126 -> 115\n",
      "update Arr 115 -> 111\n",
      "update Arr 111 -> 106\n",
      "update Arr 106 -> 106\n",
      "update Arr 106 -> 105\n",
      "Final k: 11\n"
     ]
    },
    {
     "data": {
      "application/vnd.jupyter.widget-view+json": {
       "model_id": "dd2933d761c64f0f84951f5b99535d32",
       "version_major": 2,
       "version_minor": 0
      },
      "text/plain": [
       "create edgeId array:   0%|          | 0/1133 [00:00<?, ?it/s]"
      ]
     },
     "metadata": {},
     "output_type": "display_data"
    },
    {
     "data": {
      "application/vnd.jupyter.widget-view+json": {
       "model_id": "49b05cac4c6c4be2b23517995cc7c4f9",
       "version_major": 2,
       "version_minor": 0
      },
      "text/plain": [
       "Calculate the lower bound for the weights:   0%|          | 0/1133 [00:00<?, ?it/s]"
      ]
     },
     "metadata": {},
     "output_type": "display_data"
    },
    {
     "data": {
      "application/vnd.jupyter.widget-view+json": {
       "model_id": "475b805f45b54a83af0575d82888fdb8",
       "version_major": 2,
       "version_minor": 0
      },
      "text/plain": [
       "Iteration over all nodes:   0%|          | 0/177 [00:00<?, ?it/s]"
      ]
     },
     "metadata": {},
     "output_type": "display_data"
    },
    {
     "name": "stdout",
     "output_type": "stream",
     "text": [
      "update Arr 1133 -> 1020\n",
      "update Arr 1020 -> 916\n",
      "update Arr 916 -> 830\n",
      "update Arr 830 -> 746\n",
      "update Arr 746 -> 671\n",
      "update Arr 671 -> 607\n",
      "update Arr 607 -> 547\n",
      "update Arr 547 -> 492\n",
      "update Arr 492 -> 446\n",
      "update Arr 446 -> 401\n",
      "update Arr 401 -> 364\n",
      "update Arr 364 -> 330\n",
      "update Arr 330 -> 299\n",
      "update Arr 299 -> 271\n",
      "update Arr 271 -> 242\n",
      "update Arr 242 -> 218\n",
      "update Arr 218 -> 198\n",
      "update Arr 198 -> 185\n",
      "update Arr 185 -> 183\n",
      "update Arr 183 -> 180\n",
      "update Arr 180 -> 178\n",
      "update Arr 178 -> 177\n"
     ]
    },
    {
     "data": {
      "application/vnd.jupyter.widget-view+json": {
       "model_id": "8e21c88f5fcc421d81eda370723a54ad",
       "version_major": 2,
       "version_minor": 0
      },
      "text/plain": [
       "create edgeId array:   0%|          | 0/1705 [00:00<?, ?it/s]"
      ]
     },
     "metadata": {},
     "output_type": "display_data"
    },
    {
     "data": {
      "application/vnd.jupyter.widget-view+json": {
       "model_id": "f0ec2d776dd74609a130fdb605972f0f",
       "version_major": 2,
       "version_minor": 0
      },
      "text/plain": [
       "Calculate the lower bound for the weights:   0%|          | 0/1705 [00:00<?, ?it/s]"
      ]
     },
     "metadata": {},
     "output_type": "display_data"
    },
    {
     "data": {
      "application/vnd.jupyter.widget-view+json": {
       "model_id": "fa74cf7ebaf24c3f9120845f1e3489d4",
       "version_major": 2,
       "version_minor": 0
      },
      "text/plain": [
       "Iteration over all nodes:   0%|          | 0/999 [00:00<?, ?it/s]"
      ]
     },
     "metadata": {},
     "output_type": "display_data"
    },
    {
     "name": "stdout",
     "output_type": "stream",
     "text": [
      "update Arr 1705 -> 1227\n",
      "added 228 edges early\n",
      "update Arr 1227 -> 1109\n",
      "added 71 edges early\n",
      "update Arr 1109 -> 1001\n",
      "added 89 edges early\n",
      "update Arr 1001 -> 1001\n",
      "update Arr 1001 -> 1001\n",
      "update Arr 1001 -> 1001\n",
      "update Arr 1001 -> 1001\n",
      "update Arr 1001 -> 1001\n",
      "update Arr 1001 -> 1001\n",
      "update Arr 1001 -> 1001\n",
      "update Arr 1001 -> 1001\n",
      "update Arr 1001 -> 1001\n",
      "update Arr 1001 -> 1001\n",
      "update Arr 1001 -> 1001\n",
      "update Arr 1001 -> 1001\n",
      "update Arr 1001 -> 1001\n",
      "update Arr 1001 -> 1001\n",
      "update Arr 1001 -> 1001\n",
      "update Arr 1001 -> 1001\n",
      "update Arr 1001 -> 1001\n",
      "update Arr 1001 -> 1001\n",
      "update Arr 1001 -> 1001\n",
      "update Arr 1001 -> 1001\n",
      "update Arr 1001 -> 1001\n",
      "update Arr 1001 -> 1001\n",
      "update Arr 1001 -> 1001\n",
      "update Arr 1001 -> 1001\n",
      "update Arr 1001 -> 1001\n",
      "update Arr 1001 -> 1001\n",
      "update Arr 1001 -> 1001\n",
      "update Arr 1001 -> 1001\n",
      "update Arr 1001 -> 1001\n",
      "update Arr 1001 -> 1001\n",
      "update Arr 1001 -> 1001\n",
      "update Arr 1001 -> 1001\n",
      "update Arr 1001 -> 1001\n",
      "update Arr 1001 -> 1001\n",
      "update Arr 1001 -> 1001\n",
      "update Arr 1001 -> 1001\n",
      "update Arr 1001 -> 1001\n",
      "update Arr 1001 -> 1001\n",
      "update Arr 1001 -> 1001\n",
      "update Arr 1001 -> 1001\n",
      "update Arr 1001 -> 1001\n",
      "update Arr 1001 -> 1001\n",
      "update Arr 1001 -> 1001\n",
      "update Arr 1001 -> 1001\n",
      "update Arr 1001 -> 1001\n",
      "update Arr 1001 -> 1001\n",
      "update Arr 1001 -> 1001\n",
      "update Arr 1001 -> 1001\n",
      "update Arr 1001 -> 1001\n",
      "update Arr 1001 -> 1001\n",
      "update Arr 1001 -> 1001\n",
      "update Arr 1001 -> 1001\n",
      "update Arr 1001 -> 1001\n",
      "update Arr 1001 -> 1001\n",
      "update Arr 1001 -> 1001\n",
      "update Arr 1001 -> 1001\n",
      "update Arr 1001 -> 1001\n",
      "update Arr 1001 -> 1001\n",
      "update Arr 1001 -> 1001\n",
      "update Arr 1001 -> 1001\n",
      "update Arr 1001 -> 1001\n",
      "update Arr 1001 -> 1001\n",
      "update Arr 1001 -> 1001\n",
      "update Arr 1001 -> 1001\n",
      "update Arr 1001 -> 1001\n",
      "update Arr 1001 -> 1001\n",
      "update Arr 1001 -> 1001\n",
      "update Arr 1001 -> 1001\n",
      "update Arr 1001 -> 1001\n",
      "update Arr 1001 -> 1001\n",
      "update Arr 1001 -> 1001\n",
      "update Arr 1001 -> 1001\n",
      "update Arr 1001 -> 1001\n",
      "update Arr 1001 -> 1001\n",
      "update Arr 1001 -> 1001\n",
      "update Arr 1001 -> 1001\n",
      "update Arr 1001 -> 1001\n",
      "update Arr 1001 -> 1001\n",
      "update Arr 1001 -> 1001\n",
      "update Arr 1001 -> 1001\n",
      "update Arr 1001 -> 1001\n",
      "update Arr 1001 -> 1001\n",
      "update Arr 1001 -> 1001\n",
      "update Arr 1001 -> 1001\n",
      "update Arr 1001 -> 1001\n",
      "update Arr 1001 -> 1001\n",
      "update Arr 1001 -> 1001\n",
      "update Arr 1001 -> 1001\n",
      "update Arr 1001 -> 1001\n",
      "update Arr 1001 -> 1001\n",
      "update Arr 1001 -> 1001\n",
      "update Arr 1001 -> 1001\n",
      "update Arr 1001 -> 1001\n",
      "update Arr 1001 -> 1001\n",
      "update Arr 1001 -> 1001\n",
      "update Arr 1001 -> 1001\n",
      "update Arr 1001 -> 1001\n",
      "update Arr 1001 -> 1001\n",
      "update Arr 1001 -> 1001\n",
      "update Arr 1001 -> 1001\n",
      "update Arr 1001 -> 1001\n",
      "update Arr 1001 -> 1001\n",
      "update Arr 1001 -> 1001\n",
      "update Arr 1001 -> 1001\n",
      "update Arr 1001 -> 1001\n",
      "update Arr 1001 -> 1001\n",
      "update Arr 1001 -> 1001\n",
      "update Arr 1001 -> 1001\n",
      "update Arr 1001 -> 1001\n",
      "update Arr 1001 -> 1001\n",
      "update Arr 1001 -> 1001\n",
      "update Arr 1001 -> 1001\n",
      "update Arr 1001 -> 1001\n",
      "update Arr 1001 -> 1001\n",
      "update Arr 1001 -> 1001\n",
      "update Arr 1001 -> 1001\n",
      "update Arr 1001 -> 1001\n",
      "update Arr 1001 -> 1001\n",
      "update Arr 1001 -> 1001\n",
      "update Arr 1001 -> 1001\n",
      "update Arr 1001 -> 1001\n",
      "update Arr 1001 -> 1001\n",
      "update Arr 1001 -> 1001\n",
      "update Arr 1001 -> 1001\n",
      "update Arr 1001 -> 1001\n",
      "update Arr 1001 -> 1001\n",
      "update Arr 1001 -> 1001\n",
      "update Arr 1001 -> 1001\n",
      "update Arr 1001 -> 1001\n",
      "update Arr 1001 -> 1001\n",
      "update Arr 1001 -> 1001\n",
      "update Arr 1001 -> 1001\n",
      "update Arr 1001 -> 1001\n",
      "update Arr 1001 -> 1001\n",
      "update Arr 1001 -> 1001\n",
      "update Arr 1001 -> 1001\n",
      "update Arr 1001 -> 1001\n",
      "update Arr 1001 -> 1001\n",
      "update Arr 1001 -> 1001\n",
      "update Arr 1001 -> 1001\n",
      "update Arr 1001 -> 1001\n",
      "update Arr 1001 -> 1001\n",
      "update Arr 1001 -> 1001\n",
      "update Arr 1001 -> 1001\n",
      "update Arr 1001 -> 1001\n",
      "update Arr 1001 -> 1001\n",
      "update Arr 1001 -> 1001\n",
      "update Arr 1001 -> 1001\n",
      "update Arr 1001 -> 1001\n",
      "update Arr 1001 -> 1001\n",
      "update Arr 1001 -> 1001\n",
      "update Arr 1001 -> 1001\n",
      "update Arr 1001 -> 1001\n",
      "update Arr 1001 -> 1001\n",
      "update Arr 1001 -> 1001\n",
      "update Arr 1001 -> 1001\n",
      "update Arr 1001 -> 1001\n",
      "update Arr 1001 -> 1001\n",
      "update Arr 1001 -> 1001\n",
      "update Arr 1001 -> 1001\n",
      "update Arr 1001 -> 1001\n",
      "update Arr 1001 -> 1001\n",
      "update Arr 1001 -> 1001\n",
      "update Arr 1001 -> 1001\n",
      "update Arr 1001 -> 1001\n",
      "update Arr 1001 -> 1001\n",
      "update Arr 1001 -> 1001\n",
      "update Arr 1001 -> 1001\n",
      "update Arr 1001 -> 1001\n",
      "update Arr 1001 -> 1001\n",
      "update Arr 1001 -> 1001\n",
      "update Arr 1001 -> 1001\n",
      "update Arr 1001 -> 1001\n",
      "update Arr 1001 -> 1001\n",
      "update Arr 1001 -> 1001\n",
      "update Arr 1001 -> 1001\n",
      "update Arr 1001 -> 1001\n",
      "update Arr 1001 -> 1001\n",
      "update Arr 1001 -> 1001\n",
      "update Arr 1001 -> 1001\n",
      "update Arr 1001 -> 1001\n",
      "update Arr 1001 -> 1001\n",
      "update Arr 1001 -> 1001\n",
      "update Arr 1001 -> 1001\n",
      "update Arr 1001 -> 1001\n",
      "update Arr 1001 -> 1001\n",
      "update Arr 1001 -> 1001\n",
      "update Arr 1001 -> 1001\n",
      "update Arr 1001 -> 1001\n",
      "update Arr 1001 -> 1001\n",
      "update Arr 1001 -> 1001\n",
      "update Arr 1001 -> 1001\n",
      "update Arr 1001 -> 1001\n",
      "update Arr 1001 -> 1001\n",
      "update Arr 1001 -> 1001\n",
      "update Arr 1001 -> 1001\n",
      "update Arr 1001 -> 1001\n",
      "update Arr 1001 -> 1001\n",
      "update Arr 1001 -> 1001\n",
      "update Arr 1001 -> 1001\n",
      "update Arr 1001 -> 1001\n",
      "update Arr 1001 -> 1001\n",
      "update Arr 1001 -> 1001\n",
      "update Arr 1001 -> 1001\n",
      "update Arr 1001 -> 1001\n",
      "update Arr 1001 -> 1001\n",
      "update Arr 1001 -> 1001\n",
      "update Arr 1001 -> 1001\n",
      "update Arr 1001 -> 1001\n",
      "update Arr 1001 -> 1001\n",
      "update Arr 1001 -> 1001\n",
      "update Arr 1001 -> 1001\n",
      "update Arr 1001 -> 1001\n",
      "update Arr 1001 -> 1001\n",
      "update Arr 1001 -> 1001\n",
      "update Arr 1001 -> 1001\n",
      "update Arr 1001 -> 1001\n",
      "update Arr 1001 -> 1001\n",
      "update Arr 1001 -> 1001\n",
      "update Arr 1001 -> 1001\n",
      "update Arr 1001 -> 1001\n",
      "update Arr 1001 -> 1001\n",
      "update Arr 1001 -> 1001\n",
      "update Arr 1001 -> 1001\n",
      "update Arr 1001 -> 1001\n",
      "update Arr 1001 -> 1001\n",
      "update Arr 1001 -> 1001\n",
      "update Arr 1001 -> 1001\n",
      "update Arr 1001 -> 1001\n",
      "update Arr 1001 -> 1001\n",
      "update Arr 1001 -> 1001\n",
      "update Arr 1001 -> 1001\n",
      "update Arr 1001 -> 1001\n",
      "update Arr 1001 -> 1001\n",
      "update Arr 1001 -> 1001\n",
      "update Arr 1001 -> 1001\n",
      "update Arr 1001 -> 1001\n",
      "update Arr 1001 -> 1001\n",
      "update Arr 1001 -> 1001\n",
      "update Arr 1001 -> 1001\n",
      "update Arr 1001 -> 1001\n",
      "update Arr 1001 -> 1001\n",
      "update Arr 1001 -> 1001\n",
      "update Arr 1001 -> 1001\n",
      "update Arr 1001 -> 1001\n",
      "update Arr 1001 -> 1001\n",
      "update Arr 1001 -> 1001\n",
      "update Arr 1001 -> 1001\n",
      "update Arr 1001 -> 1001\n",
      "update Arr 1001 -> 1001\n",
      "update Arr 1001 -> 1001\n",
      "update Arr 1001 -> 1001\n",
      "update Arr 1001 -> 1001\n",
      "update Arr 1001 -> 1001\n",
      "update Arr 1001 -> 1001\n",
      "update Arr 1001 -> 1001\n",
      "update Arr 1001 -> 1001\n",
      "update Arr 1001 -> 1001\n",
      "update Arr 1001 -> 1001\n",
      "update Arr 1001 -> 1001\n",
      "update Arr 1001 -> 1001\n",
      "update Arr 1001 -> 1001\n",
      "update Arr 1001 -> 1001\n",
      "update Arr 1001 -> 1001\n",
      "update Arr 1001 -> 1001\n",
      "update Arr 1001 -> 1001\n",
      "update Arr 1001 -> 1001\n",
      "update Arr 1001 -> 1001\n",
      "update Arr 1001 -> 1001\n",
      "update Arr 1001 -> 1001\n",
      "update Arr 1001 -> 1001\n",
      "update Arr 1001 -> 1001\n",
      "update Arr 1001 -> 1001\n",
      "update Arr 1001 -> 1001\n",
      "update Arr 1001 -> 1001\n",
      "update Arr 1001 -> 1001\n",
      "update Arr 1001 -> 1001\n",
      "update Arr 1001 -> 1001\n",
      "update Arr 1001 -> 1001\n",
      "update Arr 1001 -> 1001\n",
      "update Arr 1001 -> 1001\n",
      "update Arr 1001 -> 1001\n",
      "update Arr 1001 -> 1001\n",
      "update Arr 1001 -> 1001\n",
      "update Arr 1001 -> 1001\n",
      "update Arr 1001 -> 1001\n",
      "update Arr 1001 -> 1001\n",
      "update Arr 1001 -> 1001\n",
      "update Arr 1001 -> 1001\n",
      "update Arr 1001 -> 1001\n",
      "update Arr 1001 -> 1001\n",
      "update Arr 1001 -> 1001\n",
      "update Arr 1001 -> 1001\n",
      "update Arr 1001 -> 1001\n",
      "update Arr 1001 -> 1001\n",
      "update Arr 1001 -> 1001\n",
      "update Arr 1001 -> 1001\n",
      "update Arr 1001 -> 1001\n",
      "update Arr 1001 -> 1001\n",
      "update Arr 1001 -> 1001\n",
      "update Arr 1001 -> 1001\n",
      "update Arr 1001 -> 1001\n",
      "update Arr 1001 -> 1001\n",
      "update Arr 1001 -> 1001\n",
      "update Arr 1001 -> 1001\n",
      "update Arr 1001 -> 1001\n",
      "update Arr 1001 -> 1001\n",
      "update Arr 1001 -> 1001\n",
      "update Arr 1001 -> 1001\n",
      "update Arr 1001 -> 1001\n",
      "update Arr 1001 -> 1001\n",
      "update Arr 1001 -> 1001\n",
      "update Arr 1001 -> 1001\n",
      "update Arr 1001 -> 1001\n",
      "update Arr 1001 -> 1001\n",
      "update Arr 1001 -> 1001\n",
      "update Arr 1001 -> 1001\n",
      "update Arr 1001 -> 1001\n",
      "update Arr 1001 -> 1001\n",
      "update Arr 1001 -> 1001\n",
      "update Arr 1001 -> 1001\n",
      "update Arr 1001 -> 1001\n",
      "update Arr 1001 -> 1001\n",
      "update Arr 1001 -> 1001\n",
      "update Arr 1001 -> 1001\n",
      "update Arr 1001 -> 1001\n",
      "update Arr 1001 -> 1001\n",
      "update Arr 1001 -> 1001\n",
      "update Arr 1001 -> 1001\n",
      "update Arr 1001 -> 1001\n",
      "update Arr 1001 -> 1001\n",
      "update Arr 1001 -> 1001\n",
      "update Arr 1001 -> 1001\n",
      "update Arr 1001 -> 1001\n",
      "update Arr 1001 -> 1001\n",
      "update Arr 1001 -> 1001\n",
      "update Arr 1001 -> 1001\n",
      "update Arr 1001 -> 1001\n",
      "update Arr 1001 -> 1001\n",
      "update Arr 1001 -> 1001\n",
      "update Arr 1001 -> 1001\n",
      "update Arr 1001 -> 1001\n",
      "update Arr 1001 -> 1001\n",
      "update Arr 1001 -> 1001\n",
      "update Arr 1001 -> 1001\n",
      "update Arr 1001 -> 1001\n",
      "update Arr 1001 -> 1001\n",
      "update Arr 1001 -> 1001\n",
      "update Arr 1001 -> 1001\n",
      "update Arr 1001 -> 1001\n",
      "update Arr 1001 -> 1001\n",
      "update Arr 1001 -> 1001\n",
      "update Arr 1001 -> 1001\n",
      "update Arr 1001 -> 1001\n",
      "update Arr 1001 -> 1001\n",
      "update Arr 1001 -> 1001\n",
      "update Arr 1001 -> 1001\n",
      "update Arr 1001 -> 1001\n",
      "update Arr 1001 -> 1001\n",
      "update Arr 1001 -> 1001\n",
      "update Arr 1001 -> 1001\n",
      "update Arr 1001 -> 1001\n",
      "update Arr 1001 -> 1001\n",
      "update Arr 1001 -> 1001\n",
      "update Arr 1001 -> 1001\n",
      "update Arr 1001 -> 1001\n",
      "update Arr 1001 -> 1001\n",
      "update Arr 1001 -> 1001\n",
      "update Arr 1001 -> 1001\n",
      "update Arr 1001 -> 1001\n",
      "update Arr 1001 -> 1001\n",
      "update Arr 1001 -> 1001\n",
      "update Arr 1001 -> 1001\n",
      "update Arr 1001 -> 1001\n",
      "update Arr 1001 -> 1001\n",
      "update Arr 1001 -> 1001\n",
      "update Arr 1001 -> 1001\n",
      "update Arr 1001 -> 1001\n",
      "update Arr 1001 -> 1001\n",
      "update Arr 1001 -> 1001\n",
      "update Arr 1001 -> 1001\n",
      "update Arr 1001 -> 1001\n",
      "update Arr 1001 -> 1001\n",
      "update Arr 1001 -> 1001\n",
      "update Arr 1001 -> 1001\n",
      "update Arr 1001 -> 1001\n",
      "update Arr 1001 -> 1001\n",
      "update Arr 1001 -> 1001\n",
      "update Arr 1001 -> 1001\n",
      "update Arr 1001 -> 1001\n",
      "update Arr 1001 -> 1001\n",
      "update Arr 1001 -> 1001\n",
      "update Arr 1001 -> 1001\n",
      "update Arr 1001 -> 1001\n",
      "update Arr 1001 -> 1001\n",
      "update Arr 1001 -> 1001\n",
      "update Arr 1001 -> 1001\n",
      "update Arr 1001 -> 1001\n",
      "update Arr 1001 -> 1001\n",
      "update Arr 1001 -> 1001\n",
      "update Arr 1001 -> 1001\n",
      "update Arr 1001 -> 1001\n",
      "update Arr 1001 -> 1001\n",
      "update Arr 1001 -> 1001\n",
      "update Arr 1001 -> 1001\n",
      "update Arr 1001 -> 1001\n",
      "update Arr 1001 -> 1001\n",
      "update Arr 1001 -> 1001\n",
      "update Arr 1001 -> 1001\n",
      "update Arr 1001 -> 1001\n",
      "update Arr 1001 -> 1001\n",
      "update Arr 1001 -> 1001\n",
      "update Arr 1001 -> 1001\n",
      "update Arr 1001 -> 1001\n",
      "update Arr 1001 -> 1001\n",
      "update Arr 1001 -> 1001\n",
      "update Arr 1001 -> 1001\n",
      "update Arr 1001 -> 1001\n",
      "update Arr 1001 -> 1001\n",
      "update Arr 1001 -> 1001\n",
      "update Arr 1001 -> 1001\n",
      "update Arr 1001 -> 1001\n",
      "update Arr 1001 -> 1001\n",
      "update Arr 1001 -> 1001\n",
      "update Arr 1001 -> 1001\n",
      "update Arr 1001 -> 1001\n",
      "update Arr 1001 -> 1001\n",
      "update Arr 1001 -> 1001\n",
      "update Arr 1001 -> 1001\n",
      "update Arr 1001 -> 1001\n",
      "update Arr 1001 -> 1001\n",
      "update Arr 1001 -> 1001\n",
      "update Arr 1001 -> 1001\n",
      "update Arr 1001 -> 1001\n",
      "update Arr 1001 -> 1001\n",
      "update Arr 1001 -> 1001\n",
      "update Arr 1001 -> 1001\n",
      "update Arr 1001 -> 1001\n",
      "update Arr 1001 -> 1001\n",
      "update Arr 1001 -> 1001\n",
      "update Arr 1001 -> 1001\n",
      "update Arr 1001 -> 1001\n",
      "update Arr 1001 -> 1001\n",
      "update Arr 1001 -> 1001\n",
      "update Arr 1001 -> 1001\n",
      "update Arr 1001 -> 1001\n",
      "update Arr 1001 -> 1001\n",
      "update Arr 1001 -> 1001\n",
      "update Arr 1001 -> 1001\n",
      "update Arr 1001 -> 1001\n",
      "update Arr 1001 -> 1001\n",
      "update Arr 1001 -> 1001\n",
      "update Arr 1001 -> 1001\n",
      "update Arr 1001 -> 1001\n",
      "update Arr 1001 -> 1001\n",
      "update Arr 1001 -> 1001\n",
      "update Arr 1001 -> 1001\n",
      "update Arr 1001 -> 1001\n",
      "update Arr 1001 -> 1001\n",
      "update Arr 1001 -> 1001\n",
      "update Arr 1001 -> 1001\n",
      "update Arr 1001 -> 1001\n",
      "update Arr 1001 -> 1001\n",
      "update Arr 1001 -> 1001\n",
      "update Arr 1001 -> 1001\n",
      "update Arr 1001 -> 1001\n",
      "update Arr 1001 -> 1001\n",
      "update Arr 1001 -> 1001\n",
      "update Arr 1001 -> 1001\n",
      "update Arr 1001 -> 1001\n",
      "update Arr 1001 -> 1001\n",
      "update Arr 1001 -> 1001\n",
      "update Arr 1001 -> 1001\n",
      "update Arr 1001 -> 1001\n",
      "update Arr 1001 -> 1001\n",
      "update Arr 1001 -> 1001\n",
      "update Arr 1001 -> 1001\n",
      "update Arr 1001 -> 1001\n",
      "update Arr 1001 -> 1001\n",
      "update Arr 1001 -> 1001\n",
      "update Arr 1001 -> 1001\n",
      "update Arr 1001 -> 1001\n",
      "update Arr 1001 -> 1001\n",
      "update Arr 1001 -> 1001\n",
      "update Arr 1001 -> 1001\n",
      "update Arr 1001 -> 1001\n",
      "update Arr 1001 -> 1001\n",
      "update Arr 1001 -> 1001\n",
      "update Arr 1001 -> 1001\n",
      "update Arr 1001 -> 1001\n",
      "update Arr 1001 -> 1000\n",
      "update Arr 1000 -> 1000\n",
      "update Arr 1000 -> 1000\n",
      "update Arr 1000 -> 1000\n",
      "update Arr 1000 -> 1000\n",
      "update Arr 1000 -> 1000\n",
      "update Arr 1000 -> 1000\n",
      "update Arr 1000 -> 1000\n",
      "update Arr 1000 -> 1000\n",
      "update Arr 1000 -> 1000\n",
      "update Arr 1000 -> 1000\n",
      "update Arr 1000 -> 1000\n",
      "update Arr 1000 -> 1000\n",
      "update Arr 1000 -> 1000\n",
      "update Arr 1000 -> 1000\n",
      "update Arr 1000 -> 999\n",
      "added 27 edges early\n",
      "sklearn is done: 0.10322451591491699\n",
      "My own part is done: 0.0008323192596435547\n"
     ]
    },
    {
     "data": {
      "application/vnd.jupyter.widget-view+json": {
       "model_id": "b07baec247984041acd102498cf1eb7c",
       "version_major": 2,
       "version_minor": 0
      },
      "text/plain": [
       "  0%|          | 0/7 [00:00<?, ?it/s]"
      ]
     },
     "metadata": {},
     "output_type": "display_data"
    },
    {
     "name": "stdout",
     "output_type": "stream",
     "text": [
      "Final k: 11\n"
     ]
    },
    {
     "data": {
      "application/vnd.jupyter.widget-view+json": {
       "model_id": "e714d13b59754616b5d5e2c84dcb82ae",
       "version_major": 2,
       "version_minor": 0
      },
      "text/plain": [
       "create edgeId array:   0%|          | 0/770 [00:00<?, ?it/s]"
      ]
     },
     "metadata": {},
     "output_type": "display_data"
    },
    {
     "data": {
      "application/vnd.jupyter.widget-view+json": {
       "model_id": "cfbcbf3b01c44b2187eacb4b19816fd8",
       "version_major": 2,
       "version_minor": 0
      },
      "text/plain": [
       "Calculate the lower bound for the weights:   0%|          | 0/770 [00:00<?, ?it/s]"
      ]
     },
     "metadata": {},
     "output_type": "display_data"
    },
    {
     "data": {
      "application/vnd.jupyter.widget-view+json": {
       "model_id": "1b47ab7c0e774658a1874b9e5ce429a7",
       "version_major": 2,
       "version_minor": 0
      },
      "text/plain": [
       "Iteration over all nodes:   0%|          | 0/118 [00:00<?, ?it/s]"
      ]
     },
     "metadata": {},
     "output_type": "display_data"
    },
    {
     "name": "stdout",
     "output_type": "stream",
     "text": [
      "update Arr 770 -> 691\n",
      "update Arr 691 -> 628\n",
      "update Arr 628 -> 566\n",
      "update Arr 566 -> 509\n",
      "update Arr 509 -> 460\n",
      "update Arr 460 -> 418\n",
      "update Arr 418 -> 379\n",
      "update Arr 379 -> 336\n",
      "update Arr 336 -> 303\n",
      "update Arr 303 -> 274\n",
      "update Arr 274 -> 249\n",
      "update Arr 249 -> 222\n",
      "update Arr 222 -> 201\n",
      "update Arr 201 -> 182\n",
      "update Arr 182 -> 162\n",
      "update Arr 162 -> 140\n",
      "update Arr 140 -> 126\n",
      "update Arr 126 -> 124\n",
      "update Arr 124 -> 121\n",
      "update Arr 121 -> 119\n",
      "update Arr 119 -> 118\n",
      "Final k: 11\n"
     ]
    },
    {
     "data": {
      "application/vnd.jupyter.widget-view+json": {
       "model_id": "5fa665a1555349d2b395753cea38ff58",
       "version_major": 2,
       "version_minor": 0
      },
      "text/plain": [
       "create edgeId array:   0%|          | 0/1115 [00:00<?, ?it/s]"
      ]
     },
     "metadata": {},
     "output_type": "display_data"
    },
    {
     "data": {
      "application/vnd.jupyter.widget-view+json": {
       "model_id": "f09548b29c52409c8bd0a6dd53b55775",
       "version_major": 2,
       "version_minor": 0
      },
      "text/plain": [
       "Calculate the lower bound for the weights:   0%|          | 0/1115 [00:00<?, ?it/s]"
      ]
     },
     "metadata": {},
     "output_type": "display_data"
    },
    {
     "data": {
      "application/vnd.jupyter.widget-view+json": {
       "model_id": "20aaffbec3a343df93d45707d4421b4b",
       "version_major": 2,
       "version_minor": 0
      },
      "text/plain": [
       "Iteration over all nodes:   0%|          | 0/174 [00:00<?, ?it/s]"
      ]
     },
     "metadata": {},
     "output_type": "display_data"
    },
    {
     "name": "stdout",
     "output_type": "stream",
     "text": [
      "update Arr 1115 -> 1007\n",
      "update Arr 1007 -> 915\n",
      "update Arr 915 -> 831\n",
      "update Arr 831 -> 746\n",
      "update Arr 746 -> 678\n",
      "update Arr 678 -> 613\n",
      "update Arr 613 -> 555\n",
      "update Arr 555 -> 499\n",
      "update Arr 499 -> 450\n",
      "update Arr 450 -> 408\n",
      "update Arr 408 -> 366\n",
      "update Arr 366 -> 327\n",
      "update Arr 327 -> 296\n",
      "update Arr 296 -> 268\n",
      "update Arr 268 -> 239\n",
      "update Arr 239 -> 215\n",
      "update Arr 215 -> 195\n",
      "update Arr 195 -> 184\n",
      "update Arr 184 -> 179\n",
      "update Arr 179 -> 177\n",
      "update Arr 177 -> 175\n",
      "update Arr 175 -> 174\n",
      "Final k: 11\n"
     ]
    },
    {
     "data": {
      "application/vnd.jupyter.widget-view+json": {
       "model_id": "3363380282f345eba9f6376f527ce7ac",
       "version_major": 2,
       "version_minor": 0
      },
      "text/plain": [
       "create edgeId array:   0%|          | 0/1099 [00:00<?, ?it/s]"
      ]
     },
     "metadata": {},
     "output_type": "display_data"
    },
    {
     "data": {
      "application/vnd.jupyter.widget-view+json": {
       "model_id": "09fe789079a84ece920e8d70724e1238",
       "version_major": 2,
       "version_minor": 0
      },
      "text/plain": [
       "Calculate the lower bound for the weights:   0%|          | 0/1099 [00:00<?, ?it/s]"
      ]
     },
     "metadata": {},
     "output_type": "display_data"
    },
    {
     "data": {
      "application/vnd.jupyter.widget-view+json": {
       "model_id": "6f1fafe3a4bf4a97957cd20fcbd50c41",
       "version_major": 2,
       "version_minor": 0
      },
      "text/plain": [
       "Iteration over all nodes:   0%|          | 0/172 [00:00<?, ?it/s]"
      ]
     },
     "metadata": {},
     "output_type": "display_data"
    },
    {
     "name": "stdout",
     "output_type": "stream",
     "text": [
      "update Arr 1099 -> 994\n",
      "update Arr 994 -> 899\n",
      "update Arr 899 -> 813\n",
      "update Arr 813 -> 739\n",
      "update Arr 739 -> 669\n",
      "update Arr 669 -> 605\n",
      "update Arr 605 -> 549\n",
      "update Arr 549 -> 497\n",
      "update Arr 497 -> 449\n",
      "update Arr 449 -> 406\n",
      "update Arr 406 -> 369\n",
      "update Arr 369 -> 333\n",
      "update Arr 333 -> 301\n",
      "update Arr 301 -> 269\n",
      "update Arr 269 -> 241\n",
      "update Arr 241 -> 213\n",
      "update Arr 213 -> 190\n",
      "update Arr 190 -> 179\n",
      "update Arr 179 -> 178\n",
      "update Arr 178 -> 175\n",
      "update Arr 175 -> 173\n",
      "update Arr 173 -> 172\n",
      "Final k: 11\n"
     ]
    },
    {
     "data": {
      "application/vnd.jupyter.widget-view+json": {
       "model_id": "c18e0856bd314087ac632ca3d1cb6b5e",
       "version_major": 2,
       "version_minor": 0
      },
      "text/plain": [
       "create edgeId array:   0%|          | 0/944 [00:00<?, ?it/s]"
      ]
     },
     "metadata": {},
     "output_type": "display_data"
    },
    {
     "data": {
      "application/vnd.jupyter.widget-view+json": {
       "model_id": "b2469bbc77084ac2be16699674fac520",
       "version_major": 2,
       "version_minor": 0
      },
      "text/plain": [
       "Calculate the lower bound for the weights:   0%|          | 0/944 [00:00<?, ?it/s]"
      ]
     },
     "metadata": {},
     "output_type": "display_data"
    },
    {
     "data": {
      "application/vnd.jupyter.widget-view+json": {
       "model_id": "0226048d8b2b43e7b18af51f33744b9a",
       "version_major": 2,
       "version_minor": 0
      },
      "text/plain": [
       "Iteration over all nodes:   0%|          | 0/146 [00:00<?, ?it/s]"
      ]
     },
     "metadata": {},
     "output_type": "display_data"
    },
    {
     "name": "stdout",
     "output_type": "stream",
     "text": [
      "update Arr 944 -> 856\n",
      "update Arr 856 -> 777\n",
      "update Arr 777 -> 691\n",
      "update Arr 691 -> 624\n",
      "update Arr 624 -> 564\n",
      "update Arr 564 -> 507\n",
      "update Arr 507 -> 454\n",
      "update Arr 454 -> 402\n",
      "update Arr 402 -> 363\n",
      "update Arr 363 -> 328\n",
      "update Arr 328 -> 292\n",
      "update Arr 292 -> 264\n",
      "update Arr 264 -> 227\n",
      "update Arr 227 -> 206\n",
      "update Arr 206 -> 183\n",
      "update Arr 183 -> 166\n",
      "update Arr 166 -> 156\n",
      "update Arr 156 -> 152\n",
      "update Arr 152 -> 149\n",
      "update Arr 149 -> 147\n",
      "update Arr 147 -> 146\n",
      "Final k: 11\n"
     ]
    },
    {
     "data": {
      "application/vnd.jupyter.widget-view+json": {
       "model_id": "5fe6bbfd75544c4a9988dc8b0868459d",
       "version_major": 2,
       "version_minor": 0
      },
      "text/plain": [
       "create edgeId array:   0%|          | 0/905 [00:00<?, ?it/s]"
      ]
     },
     "metadata": {},
     "output_type": "display_data"
    },
    {
     "data": {
      "application/vnd.jupyter.widget-view+json": {
       "model_id": "77d270b6c08343b99e1d9324451cf4cb",
       "version_major": 2,
       "version_minor": 0
      },
      "text/plain": [
       "Calculate the lower bound for the weights:   0%|          | 0/905 [00:00<?, ?it/s]"
      ]
     },
     "metadata": {},
     "output_type": "display_data"
    },
    {
     "data": {
      "application/vnd.jupyter.widget-view+json": {
       "model_id": "3b6287cb493345bb80ae35d5bd7c89f8",
       "version_major": 2,
       "version_minor": 0
      },
      "text/plain": [
       "Iteration over all nodes:   0%|          | 0/136 [00:00<?, ?it/s]"
      ]
     },
     "metadata": {},
     "output_type": "display_data"
    },
    {
     "name": "stdout",
     "output_type": "stream",
     "text": [
      "update Arr 905 -> 815\n",
      "update Arr 815 -> 726\n",
      "update Arr 726 -> 648\n",
      "update Arr 648 -> 589\n",
      "update Arr 589 -> 532\n",
      "update Arr 532 -> 479\n",
      "update Arr 479 -> 435\n",
      "update Arr 435 -> 393\n",
      "update Arr 393 -> 356\n",
      "update Arr 356 -> 321\n",
      "update Arr 321 -> 290\n",
      "update Arr 290 -> 259\n",
      "update Arr 259 -> 229\n",
      "update Arr 229 -> 206\n",
      "update Arr 206 -> 187\n",
      "update Arr 187 -> 163\n",
      "update Arr 163 -> 142\n",
      "update Arr 142 -> 142\n",
      "update Arr 142 -> 139\n",
      "update Arr 139 -> 136\n",
      "Final k: 11\n"
     ]
    },
    {
     "data": {
      "application/vnd.jupyter.widget-view+json": {
       "model_id": "a29bfc41c36042aa959bed8496ca3ad6",
       "version_major": 2,
       "version_minor": 0
      },
      "text/plain": [
       "create edgeId array:   0%|          | 0/944 [00:00<?, ?it/s]"
      ]
     },
     "metadata": {},
     "output_type": "display_data"
    },
    {
     "data": {
      "application/vnd.jupyter.widget-view+json": {
       "model_id": "cf02e8e75d774b49aead0d6f85b1dd4c",
       "version_major": 2,
       "version_minor": 0
      },
      "text/plain": [
       "Calculate the lower bound for the weights:   0%|          | 0/944 [00:00<?, ?it/s]"
      ]
     },
     "metadata": {},
     "output_type": "display_data"
    },
    {
     "data": {
      "application/vnd.jupyter.widget-view+json": {
       "model_id": "85c05c92e8bc462db7bb81a6f9dcfd01",
       "version_major": 2,
       "version_minor": 0
      },
      "text/plain": [
       "Iteration over all nodes:   0%|          | 0/144 [00:00<?, ?it/s]"
      ]
     },
     "metadata": {},
     "output_type": "display_data"
    },
    {
     "name": "stdout",
     "output_type": "stream",
     "text": [
      "update Arr 944 -> 843\n",
      "update Arr 843 -> 753\n",
      "update Arr 753 -> 680\n",
      "update Arr 680 -> 614\n",
      "update Arr 614 -> 552\n",
      "update Arr 552 -> 497\n",
      "update Arr 497 -> 449\n",
      "update Arr 449 -> 408\n",
      "update Arr 408 -> 368\n",
      "update Arr 368 -> 333\n",
      "update Arr 333 -> 298\n",
      "update Arr 298 -> 270\n",
      "update Arr 270 -> 240\n",
      "update Arr 240 -> 214\n",
      "update Arr 214 -> 194\n",
      "update Arr 194 -> 166\n",
      "update Arr 166 -> 152\n",
      "update Arr 152 -> 150\n",
      "update Arr 150 -> 145\n",
      "update Arr 145 -> 145\n",
      "update Arr 145 -> 144\n",
      "Final k: 11\n"
     ]
    },
    {
     "data": {
      "application/vnd.jupyter.widget-view+json": {
       "model_id": "e06ef6a03e8c4b3389a1243078d1da8b",
       "version_major": 2,
       "version_minor": 0
      },
      "text/plain": [
       "create edgeId array:   0%|          | 0/689 [00:00<?, ?it/s]"
      ]
     },
     "metadata": {},
     "output_type": "display_data"
    },
    {
     "data": {
      "application/vnd.jupyter.widget-view+json": {
       "model_id": "2a8eb2a28314446c9c2d6476b55bb203",
       "version_major": 2,
       "version_minor": 0
      },
      "text/plain": [
       "Calculate the lower bound for the weights:   0%|          | 0/689 [00:00<?, ?it/s]"
      ]
     },
     "metadata": {},
     "output_type": "display_data"
    },
    {
     "data": {
      "application/vnd.jupyter.widget-view+json": {
       "model_id": "a767b8b26a8f403c886a7c311c1509c5",
       "version_major": 2,
       "version_minor": 0
      },
      "text/plain": [
       "Iteration over all nodes:   0%|          | 0/103 [00:00<?, ?it/s]"
      ]
     },
     "metadata": {},
     "output_type": "display_data"
    },
    {
     "name": "stdout",
     "output_type": "stream",
     "text": [
      "update Arr 689 -> 620\n",
      "update Arr 620 -> 549\n",
      "update Arr 549 -> 499\n",
      "update Arr 499 -> 450\n",
      "update Arr 450 -> 409\n",
      "update Arr 409 -> 367\n",
      "update Arr 367 -> 332\n",
      "update Arr 332 -> 298\n",
      "update Arr 298 -> 270\n",
      "update Arr 270 -> 241\n",
      "update Arr 241 -> 219\n",
      "update Arr 219 -> 189\n",
      "update Arr 189 -> 161\n",
      "update Arr 161 -> 137\n",
      "update Arr 137 -> 124\n",
      "update Arr 124 -> 113\n",
      "update Arr 113 -> 109\n",
      "update Arr 109 -> 104\n",
      "update Arr 104 -> 104\n",
      "update Arr 104 -> 103\n"
     ]
    },
    {
     "data": {
      "application/vnd.jupyter.widget-view+json": {
       "model_id": "2329399d8e7143db9b1721a9c971fd3f",
       "version_major": 2,
       "version_minor": 0
      },
      "text/plain": [
       "create edgeId array:   0%|          | 0/1888 [00:00<?, ?it/s]"
      ]
     },
     "metadata": {},
     "output_type": "display_data"
    },
    {
     "data": {
      "application/vnd.jupyter.widget-view+json": {
       "model_id": "3e27f14f305c40f0bd0908e72c075955",
       "version_major": 2,
       "version_minor": 0
      },
      "text/plain": [
       "Calculate the lower bound for the weights:   0%|          | 0/1888 [00:00<?, ?it/s]"
      ]
     },
     "metadata": {},
     "output_type": "display_data"
    },
    {
     "data": {
      "application/vnd.jupyter.widget-view+json": {
       "model_id": "d088f58fca22413496892f63ddfdd2a0",
       "version_major": 2,
       "version_minor": 0
      },
      "text/plain": [
       "Iteration over all nodes:   0%|          | 0/999 [00:00<?, ?it/s]"
      ]
     },
     "metadata": {},
     "output_type": "display_data"
    },
    {
     "name": "stdout",
     "output_type": "stream",
     "text": [
      "update Arr 1888 -> 1319\n",
      "added 219 edges early\n",
      "update Arr 1319 -> 1193\n",
      "added 56 edges early\n",
      "update Arr 1193 -> 1084\n",
      "added 61 edges early\n",
      "update Arr 1084 -> 1008\n",
      "added 53 edges early\n",
      "update Arr 1008 -> 999\n",
      "added 11 edges early\n",
      "added 521 edges early\n"
     ]
    }
   ],
   "source": [
    "for k in range(2, 41):\n",
    "    \n",
    "    cluster_centers, cluster_labels = k_means_pp(k, position, metric=metric, return_labels=True)\n",
    "\n",
    "    if small_behavior == \"remove\":\n",
    "        cluster_centers, cluster_labels, (position, ) = cfilter(cluster_centers, cluster_labels, t=min_cluster_size, position_likes=[position])\n",
    "        number_of_nodes = len(position)\n",
    "    if small_behavior == \"reassign\":\n",
    "        cluster_centers, cluster_labels = cassign(cluster_centers, cluster_labels, position, t=min_cluster_size)\n",
    "\n",
    "    sub_ICTs, components = calculate_sub_ICTs(position, cluster_centers, cluster_labels, t=min_cluster_size, mode=mode)\n",
    "\n",
    "\n",
    "    # plot the ICT forest\n",
    "    ICT_forest = nk.graph.Graph(n=len(position), weighted=True)\n",
    "    distances = pairwise_distances(position, position)\n",
    "    for component, sub_ICT in zip(components, sub_ICTs):\n",
    "        for u, v, w in sub_ICT.iterEdgesWeights():\n",
    "            nodeA = component[u]\n",
    "            nodeB = component[v]\n",
    "            ICT_forest.addEdge(nodeA, nodeB, distances[nodeA, nodeB])\n",
    "\n",
    "    ICT_forest.indexEdges()\n",
    "    \n",
    "#     G = patch_together(ICT_forest, position, bridges=4)\n",
    "\n",
    "    G, f1, f2, good_edges = patch_together(ICT_forest, position, centrality_threshold = 5.5, distance_threshold=4.5, k=6)\n",
    "    G.indexEdges()\n",
    "    \n",
    "    if patching == \"fixed\":\n",
    "\n",
    "        ICT = calculate_ICT(G, algorithm_type=ICT_algorithm, cluster_centers=cluster_centers, zeros_stay_zeros=True, update_G=1.1, good_edges=good_edges)\n",
    "        \n",
    "    if patching == \"free\":\n",
    "\n",
    "        ICT = calculate_ICT(G, algorithm_type=ICT_algorithm, cluster_centers=cluster_centers, zeros_stay_zeros=True, update_G=1.1)\n",
    "        \n",
    "    ICT.indexEdges()\n",
    "    \n",
    "    # Plot the ICT\n",
    "    fig, axs = plt.subplots(1, 3, figsize=(18,6))\n",
    "    plot_points(position, f\"overwritten\", axs[0], labels=np.array(cluster_labels))\n",
    "    axs[0].get_legend().remove()\n",
    "    plot_graph(ICT_forest, position, f\"sub ICT forest with nodes ({k} clusters)\", axs[0], node_size=0, edge_scale=0.5)\n",
    "    \n",
    "    plot_points(position[f2], f\"overwritter\", axs[1], labels=np.array(cluster_labels)[f2])\n",
    "    axs[1].get_legend().remove()\n",
    "    plot_graph(G, position, f\"Patched graph with 'glue points'\", axs[1], node_size=0, edge_scale=0.5)\n",
    "    \n",
    "    plot_graph(ICT, position, f\"ICT without nodes ({k} clusters)\", axs[2], node_size=0, edge_scale=0.5)\n",
    "    name = str(k)\n",
    "    plt.tight_layout()\n",
    "    plt.savefig(f\"Output/\" + name_of_image_folder + \"/\"+ name.zfill(5) + \".png\")\n",
    "\n",
    "    plt.close()"
   ]
  }
 ],
 "metadata": {
  "kernelspec": {
   "display_name": "Python 3",
   "language": "python",
   "name": "python3"
  },
  "language_info": {
   "codemirror_mode": {
    "name": "ipython",
    "version": 3
   },
   "file_extension": ".py",
   "mimetype": "text/x-python",
   "name": "python",
   "nbconvert_exporter": "python",
   "pygments_lexer": "ipython3",
   "version": "3.9.4"
  }
 },
 "nbformat": 4,
 "nbformat_minor": 5
}
