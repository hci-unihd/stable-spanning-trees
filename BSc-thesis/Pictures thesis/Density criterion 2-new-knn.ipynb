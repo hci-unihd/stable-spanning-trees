{
 "cells": [
  {
   "cell_type": "code",
   "execution_count": 1,
   "id": "0d5d8f98-ad5a-41a8-9075-b7c97a304f4d",
   "metadata": {},
   "outputs": [],
   "source": [
    "%load_ext autoreload"
   ]
  },
  {
   "cell_type": "code",
   "execution_count": 2,
   "id": "e95ae925-2b78-4551-9f40-ee3bb55c3024",
   "metadata": {},
   "outputs": [],
   "source": [
    "%autoreload 2"
   ]
  },
  {
   "cell_type": "code",
   "execution_count": 3,
   "id": "debbec12-0d1c-4d1c-950c-85c55236fac7",
   "metadata": {},
   "outputs": [],
   "source": [
    "import os\n",
    "import sys\n",
    "module_path = os.path.abspath(os.path.join('..'))\n",
    "if module_path not in sys.path:\n",
    "    sys.path.append(module_path)"
   ]
  },
  {
   "cell_type": "code",
   "execution_count": null,
   "id": "f79a998e-002a-48fc-a4bf-de06993987b5",
   "metadata": {
    "tags": []
   },
   "outputs": [],
   "source": [
    "import networkit as nk\n",
    "import numpy as np\n",
    "import pandas as pd\n",
    "import matplotlib.pyplot as plt\n",
    "import time\n",
    "import random\n",
    "import phate\n",
    "\n",
    "from sklearn.preprocessing import StandardScaler\n",
    "from sklearn.decomposition import PCA\n",
    "from sklearn.metrics import pairwise_distances\n",
    "from IPython.display import display, Math, Latex, Markdown\n",
    "from tqdm.notebook import tqdm\n",
    "\n",
    "from External.ICT.calculate_ICT import calculate_ICT\n",
    "from External.clustering import centers, k_means_pp, ICT_clusters, cfilter, cassign\n",
    "from External.generation import create_graph, load_image, sample_points_from_image, find_backbone\n",
    "from External.plotting import plot_points, plot_graph, no_intersections\n",
    "from External.reweight import reweight_clusters\n",
    "from External.data_loader import data_loader\n",
    "\n",
    "from copy import deepcopy\n",
    "\n",
    "# from External.create_k_nearest import patch_together\n",
    "\n",
    "plt.style.use('standard.mplstyle')"
   ]
  },
  {
   "cell_type": "code",
   "execution_count": null,
   "id": "c1ba85e2-687a-4ceb-b1d3-dbd4fd3420db",
   "metadata": {},
   "outputs": [],
   "source": [
    "# Hyperparameters\n",
    "mode = \"K_Nearest+Density2\" # Graph construction mode\n",
    "mode = \"K_Nearest+Density2+Recompute\" # Graph construction mode\n",
    "ICT_algorithm = \"cluster_all\"\n",
    "metric = \"euclidean\" # metric for clustering\n",
    "Random = False\n",
    "image_name = \"image\"\n",
    "\n",
    "# Cluster rassignment\n",
    "min_cluster_size = 12\n",
    "small_behavior = \"reassign\" #reassign or remove"
   ]
  },
  {
   "cell_type": "code",
   "execution_count": null,
   "id": "165c8e43-cafc-4d1e-8d17-d8db2e08d778",
   "metadata": {
    "tags": []
   },
   "outputs": [],
   "source": [
    "# 2D Phate\n",
    "position_phate, labels_phate = phate.tree.gen_dla(n_dim=2, n_branch=3, branch_length=2500, rand_multiplier=2, seed=37, sigma=1)\n",
    "position_phate = StandardScaler().fit_transform(position_phate)\n",
    "number_of_nodes = len(position_phate)\n",
    "G_phate, _ = create_graph(number_of_nodes, mode, position=position_phate, beta=2, delta=0.5)\n",
    "np.save(\"./Output/phate_done.npy\", [])\n",
    "G_phate.indexEdges()\n",
    "cluster_centers_phate = centers(position_phate)\n",
    "\n",
    "\n",
    "# 2D Horseshoe\n",
    "img = load_image(image_name)\n",
    "position_horseshoe = np.array(sample_points_from_image(1000,img,Random)).T\n",
    "position_horseshoe = StandardScaler().fit_transform(position_horseshoe)\n",
    "number_of_nodes = len(position_horseshoe)\n",
    "G_horseshoe, _ = create_graph(number_of_nodes, mode, position=position_horseshoe, beta=2, delta=0.5)\n",
    "np.save(\"./Output/horseshoe_done.npy\", [])\n",
    "G_horseshoe.indexEdges()\n",
    "cluster_centers_horseshoe = centers(position_horseshoe)\n",
    "\n",
    "\n",
    "#pancreas\n",
    "position, labels_pancreas, embedding_pancreas = data_loader(\"pancreas_reduced\", True)\n",
    "# dtae_embedding, dtae_labels = data_loader(\"pancreas_reduced_DTAE_embedding\", False)\n",
    "number_of_nodes = len(position)\n",
    "pca = PCA(n_components=100).fit_transform(StandardScaler().fit_transform(position))\n",
    "G_pancreas, _ = create_graph(number_of_nodes, mode, position=pca, beta=2, delta=0.5)\n",
    "np.save(\"./Output/pancreas_done.npy\", [])\n",
    "G_pancreas.indexEdges()\n",
    "cluster_centers_pancreas = centers(pca)\n",
    "\n",
    "\n",
    "# ETH\n",
    "position, labels_eth, embedding_eth = data_loader(\"eth_CC\", True)\n",
    "# dtae_embedding, dtae_labels = data_loader(\"CC_DTAE_embedding\", False)\n",
    "number_of_nodes = len(position)\n",
    "pca = PCA(n_components=100).fit_transform(StandardScaler().fit_transform(position))\n",
    "G_eth, _ = create_graph(number_of_nodes, mode, position=pca, beta=2, delta=0.5)\n",
    "np.save(\"./Output/eth_done.npy\", [])\n",
    "G_eth.indexEdges()\n",
    "cluster_centers_eth = centers(pca)"
   ]
  },
  {
   "cell_type": "code",
   "execution_count": null,
   "id": "f3707afb-2fca-4b5b-aecc-6d7be7bc3e4b",
   "metadata": {},
   "outputs": [],
   "source": [
    "ICT_phate = calculate_ICT(G_phate, algorithm_type=ICT_algorithm, cluster_centers=cluster_centers_phate, zeros_stay_zeros=True, update_G=1.1)\n",
    "ICT_phate.indexEdges()\n",
    "\n",
    "ICT_eth = calculate_ICT(G_eth, algorithm_type=ICT_algorithm, cluster_centers=cluster_centers_eth, zeros_stay_zeros=True, update_G=1.1)\n",
    "ICT_eth.indexEdges()\n",
    "\n",
    "ICT_horseshoe = calculate_ICT(G_horseshoe, algorithm_type=ICT_algorithm, cluster_centers=cluster_centers_horseshoe, zeros_stay_zeros=True, update_G=1.1)\n",
    "ICT_horseshoe.indexEdges()\n",
    "\n",
    "ICT_pancreas = calculate_ICT(G_pancreas, algorithm_type=ICT_algorithm, cluster_centers=cluster_centers_pancreas, zeros_stay_zeros=True, update_G=1.1)\n",
    "ICT_pancreas.indexEdges()"
   ]
  },
  {
   "cell_type": "code",
   "execution_count": null,
   "id": "3c198529-594a-47dc-9bae-066edbfada55",
   "metadata": {},
   "outputs": [],
   "source": [
    "fig, ax = plt.subplots(2,2, figsize=(30, 30))\n",
    "plot_points(position_phate, \"\", ax[0,0], labels=labels_phate, node_size=5)\n",
    "plot_graph(ICT_phate, position_phate, \"Density criterion 2 on 2D-PHATE\", ax[0,0], node_size=0)\n",
    "plot_points(position_horseshoe, \"\", ax[0,1], node_size=5)\n",
    "plot_graph(ICT_horseshoe, position_horseshoe, \"Density criterion 2 on 2D-Horseshoe\", ax[0,1], node_size=0)\n",
    "\n",
    "\n",
    "plot_points(embedding_pancreas, \"\", ax[1,0], labels=labels_pancreas, node_size=2.5)\n",
    "plot_graph(ICT_pancreas, embedding_pancreas, \"Density criterion 2 on pancreas (UMAP)\", ax[1,0], node_size=0)\n",
    "plot_points(embedding_eth, \"\", ax[1,1], labels=labels_eth, node_size=2.5)\n",
    "plot_graph(ICT_eth, embedding_eth, \"Density criterion 2 on ETH (UMAP)\", ax[1,1], node_size=0)\n",
    "ax[0,0].legend(markerscale=3)\n",
    "ax[0,1].legend(markerscale=3)\n",
    "ax[1,0].legend(markerscale=6)\n",
    "ax[1,1].legend(markerscale=6)\n",
    "\n",
    "plt.tight_layout()\n",
    "plt.savefig(\"./Output/Density_criterion_2_new_knn.png\")\n",
    "plt.show()"
   ]
  }
 ],
 "metadata": {
  "kernelspec": {
   "display_name": "Python 3",
   "language": "python",
   "name": "python3"
  },
  "language_info": {
   "codemirror_mode": {
    "name": "ipython",
    "version": 3
   },
   "file_extension": ".py",
   "mimetype": "text/x-python",
   "name": "python",
   "nbconvert_exporter": "python",
   "pygments_lexer": "ipython3",
   "version": "3.9.4"
  }
 },
 "nbformat": 4,
 "nbformat_minor": 5
}
